{
 "cells": [
  {
   "cell_type": "code",
   "execution_count": 52,
   "metadata": {},
   "outputs": [],
   "source": [
    "import speech_recognition as sr"
   ]
  },
  {
   "cell_type": "code",
   "execution_count": 3,
   "metadata": {},
   "outputs": [],
   "source": [
    "import nltk\n",
    "from nltk.corpus import stopwords\n",
    "import string\n",
    "lema = nltk.WordNetLemmatizer()"
   ]
  },
  {
   "cell_type": "markdown",
   "metadata": {},
   "source": [
    "Input text preprocessing"
   ]
  },
  {
   "cell_type": "code",
   "execution_count": 4,
   "metadata": {},
   "outputs": [],
   "source": [
    "def token_cleanser_lematizer(text):\n",
    "    stopwords_list = stopwords.words('english')\n",
    "    tokens = nltk.word_tokenize(text)\n",
    "    clean_tokens = [token.lower() for token in tokens if token not in stopwords_list or token not in string.punctuation]\n",
    "    lemmatized_text = lema.lemmatize(\" \".join(clean_tokens))\n",
    "    return lemmatized_text\n"
   ]
  },
  {
   "cell_type": "code",
   "execution_count": 5,
   "metadata": {},
   "outputs": [],
   "source": [
    "def token_cleaner_and_lematizer(text):\n",
    "    stopwords_list = stopwords.words('english')\n",
    "    tokens = nltk.word_tokenize(text)\n",
    "    cleaned_text = []\n",
    "    for token in tokens:\n",
    "        if token in stopwords_list or token in string.punctuation:\n",
    "            continue\n",
    "        cleaned_text.append(token.lower())\n",
    "    lemmatized_text = lema.lemmatize(\" \".join(cleaned_text))\n",
    "    return lemmatized_text"
   ]
  },
  {
   "cell_type": "markdown",
   "metadata": {},
   "source": [
    "Possible themes to check the input"
   ]
  },
  {
   "cell_type": "code",
   "execution_count": 6,
   "metadata": {},
   "outputs": [],
   "source": [
    "weather_info = ['weather', 'weather today', 'weather conditions']\n",
    "time_info = ['time', 'check time', 'hours', 'hour']\n",
    "music_play = ['play music', 'play', 'music']\n"
   ]
  },
  {
   "cell_type": "code",
   "execution_count": 7,
   "metadata": {},
   "outputs": [],
   "source": [
    "def user_input_check(user_input):\n",
    "    cleaned_user_input_tokens = token_cleaner_and_lematizer(user_input)\n",
    "\n",
    "    if any(word in cleaned_user_input_tokens for word in weather_info):\n",
    "        print(\"You searched for forecast\")\n",
    "        return\n",
    "\n",
    "    if any(word in cleaned_user_input_tokens for word in time_info):\n",
    "        print(\"You searched for time\")\n",
    "        return\n",
    "\n",
    "    if any(word in cleaned_user_input_tokens for word in music_play):\n",
    "        print(\"You searched for music\")\n",
    "        return\n",
    "\n",
    "    print(\"Unknown search\")"
   ]
  },
  {
   "cell_type": "code",
   "execution_count": 15,
   "metadata": {},
   "outputs": [
    {
     "name": "stdout",
     "output_type": "stream",
     "text": [
      "You searched for forecast\n"
     ]
    }
   ],
   "source": [
    "user_input_check(\"the weather conditions in zg\")"
   ]
  },
  {
   "cell_type": "markdown",
   "metadata": {},
   "source": [
    "Assistant speak"
   ]
  },
  {
   "cell_type": "code",
   "execution_count": 16,
   "metadata": {},
   "outputs": [],
   "source": [
    "import pyttsx3"
   ]
  },
  {
   "cell_type": "code",
   "execution_count": 42,
   "metadata": {},
   "outputs": [],
   "source": [
    "engine = pyttsx3.init()\n",
    "voices = engine.getProperty('voices')\n",
    "engine.setProperty('voice', voices[3].id)"
   ]
  },
  {
   "cell_type": "code",
   "execution_count": 26,
   "metadata": {},
   "outputs": [
    {
     "name": "stdout",
     "output_type": "stream",
     "text": [
      "0 HKEY_LOCAL_MACHINE\\SOFTWARE\\Microsoft\\Speech\\Voices\\Tokens\\TTS_MS_DE-DE_HEDDA_11.0\n",
      "1 HKEY_LOCAL_MACHINE\\SOFTWARE\\Microsoft\\Speech\\Voices\\Tokens\\TTS_MS_EN-GB_HAZEL_11.0\n",
      "2 HKEY_LOCAL_MACHINE\\SOFTWARE\\Microsoft\\Speech\\Voices\\Tokens\\TTS_MS_EN-US_DAVID_11.0\n",
      "3 HKEY_LOCAL_MACHINE\\SOFTWARE\\Microsoft\\Speech\\Voices\\Tokens\\TTS_MS_EN-US_ZIRA_11.0\n"
     ]
    }
   ],
   "source": [
    "for index, voice in enumerate(engine.getProperty('voices')):\n",
    "    print(index, voice.id)"
   ]
  },
  {
   "cell_type": "code",
   "execution_count": 41,
   "metadata": {},
   "outputs": [],
   "source": [
    "def speak(text):\n",
    "    engine.say(text)\n",
    "    engine.runAndWait()"
   ]
  },
  {
   "cell_type": "markdown",
   "metadata": {},
   "source": [
    "WHISPER speech recognizer + theme input check"
   ]
  },
  {
   "cell_type": "code",
   "execution_count": 47,
   "metadata": {},
   "outputs": [],
   "source": [
    "recognizer = sr.Recognizer()\n",
    "\n",
    "def my_voice_assistant():\n",
    "    with sr.Microphone() as source:\n",
    "        print(\"Say something!\")\n",
    "        \n",
    "        audio = recognizer.listen(source)\n",
    "\n",
    "        users_input = \"\"\n",
    "    # recognize speech using Whisper\n",
    "    try:\n",
    "        users_input = recognizer.recognize_whisper(audio)\n",
    "        users_input = users_input.lower()\n",
    "        print(f\"you said: '{users_input}'\")\n",
    "    except sr.UnknownValueError:\n",
    "        print(\"Whisper could not understand audio\")\n",
    "    except sr.RequestError as e:\n",
    "        print(\"Could not request results from Whisper; {0}\".format(e))\n",
    "\n",
    "    return users_input\n",
    "    #user_input_check(users_input)"
   ]
  },
  {
   "cell_type": "code",
   "execution_count": 11,
   "metadata": {},
   "outputs": [],
   "source": [
    "#my_voice_assistant()"
   ]
  },
  {
   "cell_type": "markdown",
   "metadata": {},
   "source": [
    "GOOGLE recognizer"
   ]
  },
  {
   "cell_type": "code",
   "execution_count": 51,
   "metadata": {},
   "outputs": [],
   "source": [
    "recognizer = sr.Recognizer()\n",
    "\n",
    "def my_google_voice_assistant():\n",
    "    with sr.Microphone() as source:\n",
    "        print(\"Say something!\")\n",
    "        \n",
    "        audio = recognizer.listen(source)\n",
    "        users_input = \"\"\n",
    "    # recognize speech using Whisper\n",
    "    try:\n",
    "        users_input = recognizer.recognize_google(audio)\n",
    "        users_input = users_input.lower()\n",
    "        print(f\"you said: '{users_input}'\")\n",
    "    except sr.UnknownValueError:\n",
    "        print(\"Google could not understand audio\")\n",
    "    except sr.RequestError as e:\n",
    "        print(\"Could not request results from Google; {0}\".format(e))\n",
    "\n",
    "    return users_input"
   ]
  },
  {
   "cell_type": "code",
   "execution_count": 50,
   "metadata": {},
   "outputs": [
    {
     "name": "stdout",
     "output_type": "stream",
     "text": [
      "Say something!\n",
      "you said: 'hello how are you'\n",
      "hello how are you\n"
     ]
    }
   ],
   "source": [
    "user_input = my_google_voice_assistant()\n",
    "#print(user_input)\n",
    "\n",
    "if \"hello\" in user_input:\n",
    "    speak(\"hi, how can i help you\")\n",
    "else:\n",
    "    speak(\"Sorry, I didn't understand you. Try again.\")"
   ]
  }
 ],
 "metadata": {
  "kernelspec": {
   "display_name": "base",
   "language": "python",
   "name": "python3"
  },
  "language_info": {
   "codemirror_mode": {
    "name": "ipython",
    "version": 3
   },
   "file_extension": ".py",
   "mimetype": "text/x-python",
   "name": "python",
   "nbconvert_exporter": "python",
   "pygments_lexer": "ipython3",
   "version": "3.9.6"
  }
 },
 "nbformat": 4,
 "nbformat_minor": 2
}
