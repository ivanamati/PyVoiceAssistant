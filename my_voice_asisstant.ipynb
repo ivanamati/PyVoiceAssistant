{
 "cells": [
  {
   "cell_type": "code",
   "execution_count": 1,
   "metadata": {},
   "outputs": [],
   "source": [
    "import speech_recognition as sr\n",
    "import pyttsx3\n",
    "from datetime import datetime\n",
    "import spacy \n",
    "import time\n",
    "import pywhatkit\n",
    "from pynput.keyboard import Key, Controller\n",
    "import pyautogui"
   ]
  },
  {
   "cell_type": "code",
   "execution_count": 2,
   "metadata": {},
   "outputs": [],
   "source": [
    "engine = pyttsx3.init()"
   ]
  },
  {
   "cell_type": "code",
   "execution_count": 3,
   "metadata": {},
   "outputs": [],
   "source": [
    "voices = engine.getProperty('voices')\n",
    "engine.setProperty('voice', voices[1].id)"
   ]
  },
  {
   "cell_type": "code",
   "execution_count": 4,
   "metadata": {},
   "outputs": [],
   "source": [
    "def mia_say(text):\n",
    "    engine.say(text)\n",
    "    engine.runAndWait()"
   ]
  },
  {
   "cell_type": "code",
   "execution_count": 2,
   "metadata": {},
   "outputs": [
    {
     "ename": "NameError",
     "evalue": "name 'sr' is not defined",
     "output_type": "error",
     "traceback": [
      "\u001b[1;31m---------------------------------------------------------------------------\u001b[0m",
      "\u001b[1;31mNameError\u001b[0m                                 Traceback (most recent call last)",
      "\u001b[1;32mc:\\Users\\Ivana\\Desktop\\CODEProjects\\PyVoiceAssistant\\my_voice_asisstant.ipynb Cell 5\u001b[0m line \u001b[0;36m<cell line: 1>\u001b[1;34m()\u001b[0m\n\u001b[1;32m----> <a href='vscode-notebook-cell:/c%3A/Users/Ivana/Desktop/CODEProjects/PyVoiceAssistant/my_voice_asisstant.ipynb#W4sZmlsZQ%3D%3D?line=0'>1</a>\u001b[0m recognizer \u001b[39m=\u001b[39m sr\u001b[39m.\u001b[39mRecognizer()\n\u001b[0;32m      <a href='vscode-notebook-cell:/c%3A/Users/Ivana/Desktop/CODEProjects/PyVoiceAssistant/my_voice_asisstant.ipynb#W4sZmlsZQ%3D%3D?line=2'>3</a>\u001b[0m \u001b[39mdef\u001b[39;00m \u001b[39mmia_listens\u001b[39m():\n\u001b[0;32m      <a href='vscode-notebook-cell:/c%3A/Users/Ivana/Desktop/CODEProjects/PyVoiceAssistant/my_voice_asisstant.ipynb#W4sZmlsZQ%3D%3D?line=3'>4</a>\u001b[0m     \u001b[39mtry\u001b[39;00m: \n",
      "\u001b[1;31mNameError\u001b[0m: name 'sr' is not defined"
     ]
    }
   ],
   "source": [
    "recognizer = sr.Recognizer()\n",
    "\n",
    "def mia_listens():\n",
    "    try: \n",
    "        with sr.Microphone() as source:\n",
    "            print(\"Mia is listening...!\")\n",
    "            voice_input = recognizer.listen(source)\n",
    "            user_input = recognizer.recognize_google(voice_input)\n",
    "            user_input = user_input.lower()\n",
    "\n",
    "            if 'miyia' in user_input or 'mia' in user_input or 'miya' in user_input:\n",
    "                user_input = user_input.replace('miyia', '') \n",
    "                print(\"test: \", user_input)\n",
    "            # else:\n",
    "            #     mia_say(\"If you need my asisstance, say my name Miyia\")\n",
    "\n",
    "    except sr.UnknownValueError as e:\n",
    "        print(\"Speech Recognition could not understand audio\")\n",
    "        mia_say(\"Sorry, I can't hear you well... \")\n",
    "        print(e)\n",
    "   \n",
    "        \n",
    "    except sr.RequestError as e:\n",
    "        print(f\"Could not request results from Google Speech Recognition service; {e}\")\n",
    "        mia_say(\"Sorry, there was an issue with the speech recognition service.\")\n",
    "        print(e)\n",
    "        \n",
    "    except Exception as e:\n",
    "        mia_say(\"Sorry, I didn't understand. If you need my help, start with saying my name, Miyia \")\n",
    "        print(e)\n",
    "        \n",
    "        \n",
    "    return user_input"
   ]
  },
  {
   "cell_type": "code",
   "execution_count": 6,
   "metadata": {},
   "outputs": [],
   "source": [
    "# def mia_command():\n",
    "#     try: \n",
    "#         with sr.Microphone() as source:\n",
    "#             print(\"listening... :) \")\n",
    "#             voice_input = recognizer.listen(source)\n",
    "#             user_input = recognizer.recognize_google(voice_input)\n",
    "\n",
    "#     except sr.UnknownValueError as e:\n",
    "#         print(\"Speech Recognition could not understand audio\")\n",
    "#         mia_say(\"Sorry, I can't hear you well... \")\n",
    "#         print(e)\n",
    "     \n",
    "#     except sr.RequestError as e:\n",
    "#         print(f\"Could not request results from Google Speech Recognition service; {e}\")\n",
    "#         mia_say(\"Sorry, there was an issue with the speech recognition service.\")\n",
    "#         print(e)\n",
    "        \n",
    "#     except Exception as e:\n",
    "#         mia_say(\"Sorry, I didn't understand. If you need my help, start with saying my name, Miyia \")\n",
    "#         print(e)\n",
    "        \n",
    "        \n",
    "#     return user_input"
   ]
  },
  {
   "cell_type": "code",
   "execution_count": 7,
   "metadata": {},
   "outputs": [],
   "source": [
    "mia_say('Hello, this is Miyia, what can i do for you')\n",
    "#listen_and_recognize()"
   ]
  },
  {
   "cell_type": "code",
   "execution_count": 8,
   "metadata": {},
   "outputs": [],
   "source": [
    "keyboard = Controller()\n",
    "\n",
    "def send_whatsapp_message(msg: str, phone_number: str):\n",
    "    try:\n",
    "        pywhatkit.sendwhatmsg_instantly(\n",
    "            phone_no=phone_number, \n",
    "            message=msg,\n",
    "            tab_close=True\n",
    "        )\n",
    "        time.sleep(10)\n",
    "        pyautogui.click()\n",
    "        time.sleep(2)\n",
    "        keyboard.press(Key.enter)\n",
    "        keyboard.release(Key.enter)\n",
    "        print(\"Message sent!\")\n",
    "    except Exception as e:\n",
    "        print(str(e))"
   ]
  },
  {
   "cell_type": "code",
   "execution_count": 3,
   "metadata": {},
   "outputs": [],
   "source": [
    "def run_mia():\n",
    "\n",
    "    #mia_say(\"What can i do for you\")\n",
    "\n",
    "    command = mia_listens()\n",
    "\n",
    "    if 'time' in command:\n",
    "        time  = datetime.now().strftime('%H:%M')\n",
    "        mia_say(\"Current time is \" + time)\n",
    "        print(time)\n",
    "\n",
    "    elif 'stop' in command:\n",
    "        mia_say('Till next time, bye and have a nice day!')\n",
    "        exit()\n",
    "\n",
    "    elif 'play' in command:\n",
    "        music = command.replace('play', '')\n",
    "        print(\"clean command \", music)\n",
    "        pywhatkit.playonyt(music)\n",
    "\n",
    "    elif 'send message' in command:\n",
    "        mia_say(\"Sure, to whom should i send message?\")\n",
    "\n",
    "        receiver = mia_listens()\n",
    "\n",
    "        print(\"poruku prima: \", receiver.replace('to',''))\n",
    "        \n",
    "        if 'igor' in receiver:\n",
    "            phone_number = \"+385993422900\"\n",
    "            mia_say(\"What is the message?\")\n",
    "\n",
    "            message = mia_listens()\n",
    "            send_whatsapp_message(message, phone_number)\n",
    "\n",
    "        elif 'mother' or 'mom' in receiver:\n",
    "            phone_number = \"+385912099202\"\n",
    "            mia_say(\"What is the message?\")\n",
    "\n",
    "            message = mia_listens()\n",
    "            send_whatsapp_message(message, phone_number)\n",
    "            \n",
    "\n",
    "\n"
   ]
  },
  {
   "cell_type": "code",
   "execution_count": 10,
   "metadata": {},
   "outputs": [],
   "source": [
    "#run_mia()"
   ]
  },
  {
   "cell_type": "code",
   "execution_count": 13,
   "metadata": {},
   "outputs": [
    {
     "name": "stdout",
     "output_type": "stream",
     "text": [
      "Hi, Mia is listening...!\n"
     ]
    },
    {
     "ename": "KeyboardInterrupt",
     "evalue": "",
     "output_type": "error",
     "traceback": [
      "\u001b[1;31m---------------------------------------------------------------------------\u001b[0m",
      "\u001b[1;31mKeyboardInterrupt\u001b[0m                         Traceback (most recent call last)",
      "\u001b[1;32mc:\\Users\\Ivana\\Desktop\\CODEProjects\\PyVoiceAssistant\\my_voice_asisstant.ipynb Cell 11\u001b[0m line \u001b[0;36m<cell line: 5>\u001b[1;34m()\u001b[0m\n\u001b[0;32m      <a href='vscode-notebook-cell:/c%3A/Users/Ivana/Desktop/CODEProjects/PyVoiceAssistant/my_voice_asisstant.ipynb#X15sZmlsZQ%3D%3D?line=0'>1</a>\u001b[0m mia_say(\u001b[39m\"\u001b[39m\u001b[39mHello, this is Miyia, what can i do for you\u001b[39m\u001b[39m\"\u001b[39m)\n\u001b[0;32m      <a href='vscode-notebook-cell:/c%3A/Users/Ivana/Desktop/CODEProjects/PyVoiceAssistant/my_voice_asisstant.ipynb#X15sZmlsZQ%3D%3D?line=2'>3</a>\u001b[0m \u001b[39mwhile\u001b[39;00m \u001b[39mTrue\u001b[39;00m:\n\u001b[1;32m----> <a href='vscode-notebook-cell:/c%3A/Users/Ivana/Desktop/CODEProjects/PyVoiceAssistant/my_voice_asisstant.ipynb#X15sZmlsZQ%3D%3D?line=4'>5</a>\u001b[0m     run_mia()\n\u001b[0;32m      <a href='vscode-notebook-cell:/c%3A/Users/Ivana/Desktop/CODEProjects/PyVoiceAssistant/my_voice_asisstant.ipynb#X15sZmlsZQ%3D%3D?line=6'>7</a>\u001b[0m     new_command \u001b[39m=\u001b[39m mia_say(\u001b[39m\"\u001b[39m\u001b[39mCan i Help you with something else?\u001b[39m\u001b[39m\"\u001b[39m)\n\u001b[0;32m      <a href='vscode-notebook-cell:/c%3A/Users/Ivana/Desktop/CODEProjects/PyVoiceAssistant/my_voice_asisstant.ipynb#X15sZmlsZQ%3D%3D?line=8'>9</a>\u001b[0m     new_command \u001b[39m=\u001b[39m mia_command()\n",
      "\u001b[1;32mc:\\Users\\Ivana\\Desktop\\CODEProjects\\PyVoiceAssistant\\my_voice_asisstant.ipynb Cell 11\u001b[0m line \u001b[0;36mrun_mia\u001b[1;34m()\u001b[0m\n\u001b[0;32m      <a href='vscode-notebook-cell:/c%3A/Users/Ivana/Desktop/CODEProjects/PyVoiceAssistant/my_voice_asisstant.ipynb#X15sZmlsZQ%3D%3D?line=0'>1</a>\u001b[0m \u001b[39mdef\u001b[39;00m \u001b[39mrun_mia\u001b[39m():\n\u001b[0;32m      <a href='vscode-notebook-cell:/c%3A/Users/Ivana/Desktop/CODEProjects/PyVoiceAssistant/my_voice_asisstant.ipynb#X15sZmlsZQ%3D%3D?line=1'>2</a>\u001b[0m \n\u001b[0;32m      <a href='vscode-notebook-cell:/c%3A/Users/Ivana/Desktop/CODEProjects/PyVoiceAssistant/my_voice_asisstant.ipynb#X15sZmlsZQ%3D%3D?line=2'>3</a>\u001b[0m     \u001b[39m#mia_say(\"What can i do for you\")\u001b[39;00m\n\u001b[1;32m----> <a href='vscode-notebook-cell:/c%3A/Users/Ivana/Desktop/CODEProjects/PyVoiceAssistant/my_voice_asisstant.ipynb#X15sZmlsZQ%3D%3D?line=4'>5</a>\u001b[0m     command \u001b[39m=\u001b[39m initializing_message()\n\u001b[0;32m      <a href='vscode-notebook-cell:/c%3A/Users/Ivana/Desktop/CODEProjects/PyVoiceAssistant/my_voice_asisstant.ipynb#X15sZmlsZQ%3D%3D?line=6'>7</a>\u001b[0m     \u001b[39mif\u001b[39;00m \u001b[39m'\u001b[39m\u001b[39mtime\u001b[39m\u001b[39m'\u001b[39m \u001b[39min\u001b[39;00m command:\n\u001b[0;32m      <a href='vscode-notebook-cell:/c%3A/Users/Ivana/Desktop/CODEProjects/PyVoiceAssistant/my_voice_asisstant.ipynb#X15sZmlsZQ%3D%3D?line=7'>8</a>\u001b[0m         time  \u001b[39m=\u001b[39m datetime\u001b[39m.\u001b[39mnow()\u001b[39m.\u001b[39mstrftime(\u001b[39m'\u001b[39m\u001b[39m%\u001b[39m\u001b[39mH:\u001b[39m\u001b[39m%\u001b[39m\u001b[39mM\u001b[39m\u001b[39m'\u001b[39m)\n",
      "\u001b[1;32mc:\\Users\\Ivana\\Desktop\\CODEProjects\\PyVoiceAssistant\\my_voice_asisstant.ipynb Cell 11\u001b[0m line \u001b[0;36minitializing_message\u001b[1;34m()\u001b[0m\n\u001b[0;32m      <a href='vscode-notebook-cell:/c%3A/Users/Ivana/Desktop/CODEProjects/PyVoiceAssistant/my_voice_asisstant.ipynb#X15sZmlsZQ%3D%3D?line=4'>5</a>\u001b[0m \u001b[39mwith\u001b[39;00m sr\u001b[39m.\u001b[39mMicrophone() \u001b[39mas\u001b[39;00m source:\n\u001b[0;32m      <a href='vscode-notebook-cell:/c%3A/Users/Ivana/Desktop/CODEProjects/PyVoiceAssistant/my_voice_asisstant.ipynb#X15sZmlsZQ%3D%3D?line=5'>6</a>\u001b[0m     \u001b[39mprint\u001b[39m(\u001b[39m\"\u001b[39m\u001b[39mHi, Mia is listening...!\u001b[39m\u001b[39m\"\u001b[39m)\n\u001b[1;32m----> <a href='vscode-notebook-cell:/c%3A/Users/Ivana/Desktop/CODEProjects/PyVoiceAssistant/my_voice_asisstant.ipynb#X15sZmlsZQ%3D%3D?line=6'>7</a>\u001b[0m     voice_input \u001b[39m=\u001b[39m recognizer\u001b[39m.\u001b[39;49mlisten(source)\n\u001b[0;32m      <a href='vscode-notebook-cell:/c%3A/Users/Ivana/Desktop/CODEProjects/PyVoiceAssistant/my_voice_asisstant.ipynb#X15sZmlsZQ%3D%3D?line=7'>8</a>\u001b[0m     user_input \u001b[39m=\u001b[39m recognizer\u001b[39m.\u001b[39mrecognize_google(voice_input)\n\u001b[0;32m      <a href='vscode-notebook-cell:/c%3A/Users/Ivana/Desktop/CODEProjects/PyVoiceAssistant/my_voice_asisstant.ipynb#X15sZmlsZQ%3D%3D?line=8'>9</a>\u001b[0m     user_input \u001b[39m=\u001b[39m user_input\u001b[39m.\u001b[39mlower()\n",
      "File \u001b[1;32mc:\\Users\\Ivana\\AppData\\Local\\Programs\\Python\\Python39\\lib\\site-packages\\speech_recognition\\__init__.py:523\u001b[0m, in \u001b[0;36mRecognizer.listen\u001b[1;34m(self, source, timeout, phrase_time_limit, snowboy_configuration)\u001b[0m\n\u001b[0;32m    520\u001b[0m \u001b[39mif\u001b[39;00m phrase_time_limit \u001b[39mand\u001b[39;00m elapsed_time \u001b[39m-\u001b[39m phrase_start_time \u001b[39m>\u001b[39m phrase_time_limit:\n\u001b[0;32m    521\u001b[0m     \u001b[39mbreak\u001b[39;00m\n\u001b[1;32m--> 523\u001b[0m buffer \u001b[39m=\u001b[39m source\u001b[39m.\u001b[39;49mstream\u001b[39m.\u001b[39;49mread(source\u001b[39m.\u001b[39;49mCHUNK)\n\u001b[0;32m    524\u001b[0m \u001b[39mif\u001b[39;00m \u001b[39mlen\u001b[39m(buffer) \u001b[39m==\u001b[39m \u001b[39m0\u001b[39m: \u001b[39mbreak\u001b[39;00m  \u001b[39m# reached end of the stream\u001b[39;00m\n\u001b[0;32m    525\u001b[0m frames\u001b[39m.\u001b[39mappend(buffer)\n",
      "File \u001b[1;32mc:\\Users\\Ivana\\AppData\\Local\\Programs\\Python\\Python39\\lib\\site-packages\\speech_recognition\\__init__.py:199\u001b[0m, in \u001b[0;36mMicrophone.MicrophoneStream.read\u001b[1;34m(self, size)\u001b[0m\n\u001b[0;32m    198\u001b[0m \u001b[39mdef\u001b[39;00m \u001b[39mread\u001b[39m(\u001b[39mself\u001b[39m, size):\n\u001b[1;32m--> 199\u001b[0m     \u001b[39mreturn\u001b[39;00m \u001b[39mself\u001b[39;49m\u001b[39m.\u001b[39;49mpyaudio_stream\u001b[39m.\u001b[39;49mread(size, exception_on_overflow\u001b[39m=\u001b[39;49m\u001b[39mFalse\u001b[39;49;00m)\n",
      "File \u001b[1;32mc:\\Users\\Ivana\\AppData\\Local\\Programs\\Python\\Python39\\lib\\site-packages\\pyaudio\\__init__.py:570\u001b[0m, in \u001b[0;36mPyAudio.Stream.read\u001b[1;34m(self, num_frames, exception_on_overflow)\u001b[0m\n\u001b[0;32m    567\u001b[0m \u001b[39mif\u001b[39;00m \u001b[39mnot\u001b[39;00m \u001b[39mself\u001b[39m\u001b[39m.\u001b[39m_is_input:\n\u001b[0;32m    568\u001b[0m     \u001b[39mraise\u001b[39;00m \u001b[39mIOError\u001b[39;00m(\u001b[39m\"\u001b[39m\u001b[39mNot input stream\u001b[39m\u001b[39m\"\u001b[39m,\n\u001b[0;32m    569\u001b[0m                   paCanNotReadFromAnOutputOnlyStream)\n\u001b[1;32m--> 570\u001b[0m \u001b[39mreturn\u001b[39;00m pa\u001b[39m.\u001b[39;49mread_stream(\u001b[39mself\u001b[39;49m\u001b[39m.\u001b[39;49m_stream, num_frames,\n\u001b[0;32m    571\u001b[0m                       exception_on_overflow)\n",
      "\u001b[1;31mKeyboardInterrupt\u001b[0m: "
     ]
    }
   ],
   "source": [
    "mia_say(\"Hello, this is Miyia, what can i do for you\")\n",
    "\n",
    "while True:\n",
    "    \n",
    "    run_mia()\n",
    "\n",
    "    new_command = mia_say(\"Can i Help you with something else?\")\n",
    "\n",
    "    new_command = mia_listens()\n",
    "    new_command = new_command.lower()\n",
    "\n",
    "    if \"exit\" in new_command:\n",
    "        mia_say(\"Ok, bye\")\n",
    "        exit()\n"
   ]
  },
  {
   "cell_type": "code",
   "execution_count": null,
   "metadata": {},
   "outputs": [],
   "source": [
    "#send_whatsapp_message(\"Bok Mamic, pisem ti s moje Siri koju sam nazvala Mia\", \"+385912099202\")"
   ]
  },
  {
   "cell_type": "code",
   "execution_count": null,
   "metadata": {},
   "outputs": [],
   "source": [
    "#run_mia()"
   ]
  }
 ],
 "metadata": {
  "kernelspec": {
   "display_name": "Python 3",
   "language": "python",
   "name": "python3"
  },
  "language_info": {
   "codemirror_mode": {
    "name": "ipython",
    "version": 3
   },
   "file_extension": ".py",
   "mimetype": "text/x-python",
   "name": "python",
   "nbconvert_exporter": "python",
   "pygments_lexer": "ipython3",
   "version": "3.9.6"
  }
 },
 "nbformat": 4,
 "nbformat_minor": 2
}
